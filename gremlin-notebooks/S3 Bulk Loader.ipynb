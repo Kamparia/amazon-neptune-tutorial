{
 "cells": [
  {
   "cell_type": "code",
   "execution_count": 9,
   "id": "45617591",
   "metadata": {},
   "outputs": [],
   "source": [
    "import requests, json"
   ]
  },
  {
   "cell_type": "code",
   "execution_count": 10,
   "id": "4ed493d5",
   "metadata": {},
   "outputs": [],
   "source": [
    "PORT = 8182\n",
    "SERVER = \"database-1-instance-1.ccdtlakfhgyk.us-east-1.neptune.amazonaws.com\"\n",
    "ENDPOINT = f\"https://{SERVER}:{PORT}/loader\""
   ]
  },
  {
   "cell_type": "code",
   "execution_count": 11,
   "id": "81900d6a",
   "metadata": {},
   "outputs": [],
   "source": [
    "# Loads data from an Amazon S3 bucket into a Neptune DB instance.\n",
    "# Documentation: https://docs.aws.amazon.com/neptune/latest/userguide/load-api-reference-load.html\n",
    "\n",
    "headers = {'Content-type': 'application/json'}\n",
    "data = {\n",
    "    \"source\" : \"s3://geospatialdevoncloud/neptune/gremlin/\",\n",
    "    \"format\" : \"csv\",\n",
    "    \"iamRoleArn\" : \"arn:aws:iam::671034419761:role/S3_Neptune_Loader_Role\",\n",
    "    \"region\" : \"us-east-1\",\n",
    "    \"parallelism\" : \"MEDIUM\",\n",
    "    \"queueRequest\" : \"TRUE\",\n",
    "    \"failOnError\" : \"FALSE\"\n",
    "}\n",
    "\n",
    "resp = requests.post(ENDPOINT, data=json.dumps(data), headers=headers)"
   ]
  },
  {
   "cell_type": "code",
   "execution_count": 12,
   "id": "4a6d3686",
   "metadata": {},
   "outputs": [
    {
     "name": "stdout",
     "output_type": "stream",
     "text": [
      "200\n"
     ]
    }
   ],
   "source": [
    "print(resp.status_code)"
   ]
  },
  {
   "cell_type": "code",
   "execution_count": 13,
   "id": "9f58cef6",
   "metadata": {},
   "outputs": [
    {
     "name": "stdout",
     "output_type": "stream",
     "text": [
      "{'status': '200 OK', 'payload': {'loadId': '34a59517-9a66-4962-a807-b712f1d17191'}}\n"
     ]
    }
   ],
   "source": [
    "print(resp.json())"
   ]
  },
  {
   "cell_type": "code",
   "execution_count": null,
   "id": "29436956",
   "metadata": {},
   "outputs": [],
   "source": []
  }
 ],
 "metadata": {
  "kernelspec": {
   "display_name": "Python 3",
   "language": "python",
   "name": "python3"
  },
  "language_info": {
   "codemirror_mode": {
    "name": "ipython",
    "version": 3
   },
   "file_extension": ".py",
   "mimetype": "text/x-python",
   "name": "python",
   "nbconvert_exporter": "python",
   "pygments_lexer": "ipython3",
   "version": "3.7.12"
  }
 },
 "nbformat": 4,
 "nbformat_minor": 5
}
