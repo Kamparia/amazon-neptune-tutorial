{
 "cells": [
  {
   "cell_type": "code",
   "execution_count": 1,
   "id": "d0bd213c",
   "metadata": {},
   "outputs": [],
   "source": [
    "from gremlin_python import statics\n",
    "from gremlin_python.structure.graph import Graph\n",
    "from gremlin_python.process.graph_traversal import __\n",
    "from gremlin_python.process.strategies import *\n",
    "from gremlin_python.driver.driver_remote_connection import DriverRemoteConnection\n",
    "from gremlin_python.driver.aiohttp.transport import AiohttpTransport\n",
    "from gremlin_python.process.traversal import *"
   ]
  },
  {
   "cell_type": "code",
   "execution_count": 2,
   "id": "6deb9eee",
   "metadata": {},
   "outputs": [],
   "source": [
    "PORT = 8182\n",
    "SERVER = \"database-1-instance-1.ccdtlakfhgyk.us-east-1.neptune.amazonaws.com\"\n",
    "ENDPOINT = f\"https://{SERVER}:{PORT}/gremlin\""
   ]
  },
  {
   "cell_type": "code",
   "execution_count": 3,
   "id": "ac974eeb",
   "metadata": {},
   "outputs": [],
   "source": [
    "# connect to Neptune DB instance\n",
    "graph=Graph()\n",
    "connection = DriverRemoteConnection(ENDPOINT, 'g',\n",
    "    transport_factory=lambda:AiohttpTransport(call_from_event_loop=True)\n",
    ")\n",
    "g = graph.traversal().withRemote(connection)"
   ]
  },
  {
   "cell_type": "code",
   "execution_count": 17,
   "id": "c89ea12b",
   "metadata": {},
   "outputs": [
    {
     "name": "stdout",
     "output_type": "stream",
     "text": [
      "Company 0: Example Corp\n",
      "Company 1: AnyCompany\n"
     ]
    }
   ],
   "source": [
    "# Sample Query 1: Print names of companies\n",
    "results = (g.V().hasLabel('Company').values('name').toList())\n",
    "for index, company in enumerate(results):\n",
    "    print(f\"Company {index}: {company}\")"
   ]
  },
  {
   "cell_type": "code",
   "execution_count": 18,
   "id": "00f6a0c5",
   "metadata": {},
   "outputs": [
    {
     "name": "stdout",
     "output_type": "stream",
     "text": [
      "Person 0: Martha Rivera\n",
      "Person 1: Richard Roe\n",
      "Person 2: Li Juan\n",
      "Person 3: John Stiles\n",
      "Person 4: Saanvi Sarkar\n"
     ]
    }
   ],
   "source": [
    "# Sample Query 2: Print first and last name of all persons\n",
    "results = (g.V().hasLabel('Person').local(__.values('firstName','lastName').fold()).toList())\n",
    "for index, person in enumerate(results):\n",
    "    print(f\"Person {index}: {person[0]} {person[1]}\")"
   ]
  },
  {
   "cell_type": "code",
   "execution_count": 19,
   "id": "063a5e9e",
   "metadata": {},
   "outputs": [
    {
     "name": "stdout",
     "output_type": "stream",
     "text": [
      "Martha Rivera works for Example Corp as Principal Analyst.\n",
      "Richard Roe works for Example Corp as Senior Analyst.\n",
      "Li Juan works for Example Corp as Analyst.\n",
      "John Stiles works for Example Corp as Analyst.\n"
     ]
    }
   ],
   "source": [
    "# Sample Query 3: Print persons details and company they work for Example Corp (c-1)\n",
    "# Eg. Martha Rivera works for Example Corp as Principal Analyst\n",
    "results = g.V('c-1').bothE().otherV().limit(10).path().by(__.valueMap(True)).toList()\n",
    "for data in results:\n",
    "    company = data[0]['name'][0]\n",
    "    role = data[1]['role']\n",
    "    first_name = data[2]['firstName'][0]\n",
    "    last_name = data[2]['lastName'][0]\n",
    "    print(f\"{first_name} {last_name} works for {company} as {role}.\")"
   ]
  },
  {
   "cell_type": "code",
   "execution_count": 16,
   "id": "53f4c179",
   "metadata": {},
   "outputs": [
    {
     "data": {
      "text/plain": [
       "[['V', 'p-6'], ['addE', 'worked_for'], ['to', [['V', 'c-2']]], ['property', 'role', 'Software Engineer'], ['values', '_ipython_canary_method_should_not_exist_'], ['values', '_ipython_canary_method_should_not_exist_']]"
      ]
     },
     "execution_count": 16,
     "metadata": {},
     "output_type": "execute_result"
    }
   ],
   "source": [
    "# Sample Query 4: Add new record Tony Parker (p06) worked for AnyCompany (c-2)\n",
    "g.addV('Person').property(id, 'p-6').property('firstName', 'Tony').property('lastName', 'Parker')\n",
    "g.V('p-6').addE('worked_for').to(__.V('c-2')).property('role','Software Engineer')"
   ]
  },
  {
   "cell_type": "code",
   "execution_count": 20,
   "id": "eefedf8d",
   "metadata": {},
   "outputs": [],
   "source": [
    "connection.close()"
   ]
  },
  {
   "cell_type": "code",
   "execution_count": null,
   "id": "9459ec50",
   "metadata": {},
   "outputs": [],
   "source": []
  }
 ],
 "metadata": {
  "kernelspec": {
   "display_name": "Python 3",
   "language": "python",
   "name": "python3"
  },
  "language_info": {
   "codemirror_mode": {
    "name": "ipython",
    "version": 3
   },
   "file_extension": ".py",
   "mimetype": "text/x-python",
   "name": "python",
   "nbconvert_exporter": "python",
   "pygments_lexer": "ipython3",
   "version": "3.7.12"
  }
 },
 "nbformat": 4,
 "nbformat_minor": 5
}
